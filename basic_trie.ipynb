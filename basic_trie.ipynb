{
 "cells": [
  {
   "cell_type": "markdown",
   "metadata": {},
   "source": [
    "# Trie Data Structure Implementation in Python\n",
    "\n",
    "This notebook contains an implementation of a Trie (Prefix Tree) in Python. It includes basic methods for inserting words, searching for words, and checking prefixes. Additionally, we’ll analyze the time and space complexities of each operation."
   ]
  },
  {
   "cell_type": "code",
   "execution_count": 2,
   "metadata": {},
   "outputs": [],
   "source": [
    "# TrieNode and Trie class implementation with type annotations\n",
    "from typing import Dict\n",
    "\n",
    "class TrieNode:\n",
    "    def __init__(self):\n",
    "        self.children: Dict[str, TrieNode] = {}\n",
    "        self.is_end_of_word: bool = False\n",
    "\n",
    "class Trie:\n",
    "    def __init__(self):\n",
    "        self.root = TrieNode()\n",
    "\n",
    "    def insert(self, word: str) -> None:\n",
    "        node = self.root\n",
    "        for char in word:\n",
    "            if char not in node.children:\n",
    "                node.children[char] = TrieNode()\n",
    "            node = node.children[char]\n",
    "        node.is_end_of_word = True\n",
    "\n",
    "    def search(self, word: str) -> bool:\n",
    "        node = self.root\n",
    "        for char in word:\n",
    "            if char not in node.children:\n",
    "                return False\n",
    "            node = node.children[char]\n",
    "        return node.is_end_of_word\n",
    "\n",
    "    def startsWith(self, prefix: str) -> bool:\n",
    "        node = self.root\n",
    "        for char in prefix:\n",
    "            if char not in node.children:\n",
    "                return False\n",
    "            node = node.children[char]\n",
    "        return True"
   ]
  },
  {
   "cell_type": "code",
   "execution_count": 3,
   "metadata": {},
   "outputs": [
    {
     "name": "stdout",
     "output_type": "stream",
     "text": [
      "Search 'apple': True\n",
      "Search 'app': False\n",
      "Starts with 'app': True\n",
      "Search 'app' after inserting 'app': True\n"
     ]
    }
   ],
   "source": [
    "# Testing the Trie implementation\n",
    "trie = Trie()\n",
    "trie.insert(\"apple\")\n",
    "print(\"Search 'apple':\", trie.search(\"apple\"))   # Expected: True\n",
    "print(\"Search 'app':\", trie.search(\"app\"))       # Expected: False\n",
    "print(\"Starts with 'app':\", trie.startsWith(\"app\")) # Expected: True\n",
    "trie.insert(\"app\")\n",
    "print(\"Search 'app' after inserting 'app':\", trie.search(\"app\")) # Expected: True"
   ]
  },
  {
   "cell_type": "markdown",
   "metadata": {},
   "source": [
    "## Complexity Analysis\n",
    "\n",
    "### 1. Insertion (`insert`)\n",
    "\n",
    "- **Time Complexity**: \\(O(m)\\)\n",
    "  - Here, \\(m\\) is the length of the word being inserted.\n",
    "  - For each character in the word, we check if it exists in the current node’s `children` dictionary. If not, we add a new `TrieNode`. This process takes \\(O(1)\\) for each character, resulting in a total time complexity of \\(O(m)\\) for inserting a word of length \\(m\\).\n",
    "\n",
    "- **Space Complexity**: \\(O(m)\\)\n",
    "  - In the worst case, where no characters in the word overlap with existing entries, we need to create a new `TrieNode` for each character. Therefore, the space complexity is proportional to the length of the word being inserted, which is \\(O(m)\\).\n",
    "\n",
    "### 2. Search (`search`)\n",
    "\n",
    "- **Time Complexity**: \\(O(m)\\)\n",
    "  - Here, \\(m\\) is the length of the word being searched.\n",
    "  - We iterate through each character in the word, navigating through the `children` dictionary. Each character lookup takes \\(O(1)\\), resulting in a total time complexity of \\(O(m)\\).\n",
    "\n",
    "- **Space Complexity**: \\(O(1)\\)\n",
    "  - No additional space is used beyond the existing Trie structure, as we're only traversing nodes.\n",
    "\n",
    "### 3. Prefix Search (`startsWith`)\n",
    "\n",
    "- **Time Complexity**: \\(O(m)\\)\n",
    "  - Here, \\(m\\) is the length of the prefix.\n",
    "  - Similar to the `search` function, we iterate through each character in the prefix, performing \\(O(1)\\) operations for each character lookup, resulting in a time complexity of \\(O(m)\\).\n",
    "\n",
    "- **Space Complexity**: \\(O(1)\\)\n",
    "  - This operation only requires traversal, so no extra space is needed.\n",
    "\n",
    "### Summary of Complexities\n",
    "\n",
    "| Operation        | Time Complexity | Space Complexity |\n",
    "|------------------|-----------------|------------------|\n",
    "| `insert(word)`   | \\(O(m)\\)        | \\(O(m)\\)        |\n",
    "| `search(word)`   | \\(O(m)\\)        | \\(O(1)\\)        |\n",
    "| `startsWith(prefix)` | \\(O(m)\\) | \\(O(1)\\)        |\n",
    "\n",
    "### Notes\n",
    "- The space complexity of the Trie as a whole depends on the total number of unique characters across all words. If \\(n\\) is the number of words inserted and each word has a maximum length of \\(m\\), the Trie could require up to \\(O(n $\\cdot$ m)\\) space in the worst case (if all characters in all words are unique).\n",
    "  \n",
    "This Trie implementation is efficient for operations involving a dictionary of words, especially when performing multiple prefix searches, as it allows efficient lookups and prefix checks."
   ]
  },
  {
   "cell_type": "markdown",
   "metadata": {},
   "source": [
    "## Conclusion\n",
    "\n",
    "We have successfully implemented a Trie data structure with insertion, search, and prefix search functionalities. This notebook also analyzed the time and space complexities of each operation, providing insights into the efficiency of the Trie structure for various tasks."
   ]
  }
 ],
 "metadata": {
  "kernelspec": {
   "display_name": "base",
   "language": "python",
   "name": "python3"
  },
  "language_info": {
   "codemirror_mode": {
    "name": "ipython",
    "version": 3
   },
   "file_extension": ".py",
   "mimetype": "text/x-python",
   "name": "python",
   "nbconvert_exporter": "python",
   "pygments_lexer": "ipython3",
   "version": "3.9.7"
  }
 },
 "nbformat": 4,
 "nbformat_minor": 2
}
